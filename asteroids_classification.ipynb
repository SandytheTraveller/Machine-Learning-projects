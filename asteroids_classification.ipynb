{
 "cells": [
  {
   "cell_type": "code",
   "execution_count": 4,
   "id": "initial_id",
   "metadata": {
    "collapsed": true,
    "ExecuteTime": {
     "end_time": "2024-06-29T09:14:15.776809Z",
     "start_time": "2024-06-29T09:14:09.138105Z"
    }
   },
   "outputs": [],
   "source": [
    "import pandas as pd\n",
    "from sklearn.pipeline import Pipeline\n",
    "from sklearn.preprocessing import StandardScaler"
   ]
  },
  {
   "cell_type": "code",
   "outputs": [
    {
     "data": {
      "text/plain": "   Neo Reference ID     Name  Absolute Magnitude  Est Dia in KM(min)  \\\n0           3703080  3703080                21.6            0.127220   \n1           3723955  3723955                21.3            0.146068   \n2           2446862  2446862                20.3            0.231502   \n3           3092506  3092506                27.4            0.008801   \n4           3514799  3514799                21.6            0.127220   \n\n   Est Dia in KM(max)  Est Dia in M(min)  Est Dia in M(max)  \\\n0            0.284472         127.219879         284.472297   \n1            0.326618         146.067964         326.617897   \n2            0.517654         231.502122         517.654482   \n3            0.019681           8.801465          19.680675   \n4            0.284472         127.219879         284.472297   \n\n   Est Dia in Miles(min)  Est Dia in Miles(max)  Est Dia in Feet(min)  ...  \\\n0               0.079051               0.176763            417.388066  ...   \n1               0.090762               0.202951            479.225620  ...   \n2               0.143849               0.321655            759.521423  ...   \n3               0.005469               0.012229             28.876199  ...   \n4               0.079051               0.176763            417.388066  ...   \n\n   Asc Node Longitude Orbital Period  Perihelion Distance  Perihelion Arg  \\\n0          314.373913     609.599786             0.808259       57.257470   \n1          136.717242     425.869294             0.718200      313.091975   \n2          259.475979     643.580228             0.950791      248.415038   \n3           57.173266     514.082140             0.983902       18.707701   \n4           84.629307     495.597821             0.967687      158.263596   \n\n   Aphelion Dist  Perihelion Time  Mean Anomaly  Mean Motion  Equinox  \\\n0       2.005764     2.458162e+06    264.837533     0.590551    J2000   \n1       1.497352     2.457795e+06    173.741112     0.845330    J2000   \n2       1.966857     2.458120e+06    292.893654     0.559371    J2000   \n3       1.527904     2.457902e+06     68.741007     0.700277    J2000   \n4       1.483543     2.457814e+06    135.142133     0.726395    J2000   \n\n   Hazardous  \n0       True  \n1      False  \n2       True  \n3      False  \n4       True  \n\n[5 rows x 40 columns]",
      "text/html": "<div>\n<style scoped>\n    .dataframe tbody tr th:only-of-type {\n        vertical-align: middle;\n    }\n\n    .dataframe tbody tr th {\n        vertical-align: top;\n    }\n\n    .dataframe thead th {\n        text-align: right;\n    }\n</style>\n<table border=\"1\" class=\"dataframe\">\n  <thead>\n    <tr style=\"text-align: right;\">\n      <th></th>\n      <th>Neo Reference ID</th>\n      <th>Name</th>\n      <th>Absolute Magnitude</th>\n      <th>Est Dia in KM(min)</th>\n      <th>Est Dia in KM(max)</th>\n      <th>Est Dia in M(min)</th>\n      <th>Est Dia in M(max)</th>\n      <th>Est Dia in Miles(min)</th>\n      <th>Est Dia in Miles(max)</th>\n      <th>Est Dia in Feet(min)</th>\n      <th>...</th>\n      <th>Asc Node Longitude</th>\n      <th>Orbital Period</th>\n      <th>Perihelion Distance</th>\n      <th>Perihelion Arg</th>\n      <th>Aphelion Dist</th>\n      <th>Perihelion Time</th>\n      <th>Mean Anomaly</th>\n      <th>Mean Motion</th>\n      <th>Equinox</th>\n      <th>Hazardous</th>\n    </tr>\n  </thead>\n  <tbody>\n    <tr>\n      <th>0</th>\n      <td>3703080</td>\n      <td>3703080</td>\n      <td>21.6</td>\n      <td>0.127220</td>\n      <td>0.284472</td>\n      <td>127.219879</td>\n      <td>284.472297</td>\n      <td>0.079051</td>\n      <td>0.176763</td>\n      <td>417.388066</td>\n      <td>...</td>\n      <td>314.373913</td>\n      <td>609.599786</td>\n      <td>0.808259</td>\n      <td>57.257470</td>\n      <td>2.005764</td>\n      <td>2.458162e+06</td>\n      <td>264.837533</td>\n      <td>0.590551</td>\n      <td>J2000</td>\n      <td>True</td>\n    </tr>\n    <tr>\n      <th>1</th>\n      <td>3723955</td>\n      <td>3723955</td>\n      <td>21.3</td>\n      <td>0.146068</td>\n      <td>0.326618</td>\n      <td>146.067964</td>\n      <td>326.617897</td>\n      <td>0.090762</td>\n      <td>0.202951</td>\n      <td>479.225620</td>\n      <td>...</td>\n      <td>136.717242</td>\n      <td>425.869294</td>\n      <td>0.718200</td>\n      <td>313.091975</td>\n      <td>1.497352</td>\n      <td>2.457795e+06</td>\n      <td>173.741112</td>\n      <td>0.845330</td>\n      <td>J2000</td>\n      <td>False</td>\n    </tr>\n    <tr>\n      <th>2</th>\n      <td>2446862</td>\n      <td>2446862</td>\n      <td>20.3</td>\n      <td>0.231502</td>\n      <td>0.517654</td>\n      <td>231.502122</td>\n      <td>517.654482</td>\n      <td>0.143849</td>\n      <td>0.321655</td>\n      <td>759.521423</td>\n      <td>...</td>\n      <td>259.475979</td>\n      <td>643.580228</td>\n      <td>0.950791</td>\n      <td>248.415038</td>\n      <td>1.966857</td>\n      <td>2.458120e+06</td>\n      <td>292.893654</td>\n      <td>0.559371</td>\n      <td>J2000</td>\n      <td>True</td>\n    </tr>\n    <tr>\n      <th>3</th>\n      <td>3092506</td>\n      <td>3092506</td>\n      <td>27.4</td>\n      <td>0.008801</td>\n      <td>0.019681</td>\n      <td>8.801465</td>\n      <td>19.680675</td>\n      <td>0.005469</td>\n      <td>0.012229</td>\n      <td>28.876199</td>\n      <td>...</td>\n      <td>57.173266</td>\n      <td>514.082140</td>\n      <td>0.983902</td>\n      <td>18.707701</td>\n      <td>1.527904</td>\n      <td>2.457902e+06</td>\n      <td>68.741007</td>\n      <td>0.700277</td>\n      <td>J2000</td>\n      <td>False</td>\n    </tr>\n    <tr>\n      <th>4</th>\n      <td>3514799</td>\n      <td>3514799</td>\n      <td>21.6</td>\n      <td>0.127220</td>\n      <td>0.284472</td>\n      <td>127.219879</td>\n      <td>284.472297</td>\n      <td>0.079051</td>\n      <td>0.176763</td>\n      <td>417.388066</td>\n      <td>...</td>\n      <td>84.629307</td>\n      <td>495.597821</td>\n      <td>0.967687</td>\n      <td>158.263596</td>\n      <td>1.483543</td>\n      <td>2.457814e+06</td>\n      <td>135.142133</td>\n      <td>0.726395</td>\n      <td>J2000</td>\n      <td>True</td>\n    </tr>\n  </tbody>\n</table>\n<p>5 rows × 40 columns</p>\n</div>"
     },
     "execution_count": 2,
     "metadata": {},
     "output_type": "execute_result"
    }
   ],
   "source": [
    "asteroids_data = pd.read_csv('data/nasa.csv')\n",
    "asteroids_data.head()"
   ],
   "metadata": {
    "collapsed": false,
    "ExecuteTime": {
     "end_time": "2024-06-29T09:11:59.675957Z",
     "start_time": "2024-06-29T09:11:59.530002Z"
    }
   },
   "id": "dfde7112cbfaef05",
   "execution_count": 2
  },
  {
   "cell_type": "code",
   "outputs": [
    {
     "name": "stdout",
     "output_type": "stream",
     "text": [
      "<class 'pandas.core.frame.DataFrame'>\n",
      "RangeIndex: 4687 entries, 0 to 4686\n",
      "Data columns (total 40 columns):\n",
      " #   Column                        Non-Null Count  Dtype  \n",
      "---  ------                        --------------  -----  \n",
      " 0   Neo Reference ID              4687 non-null   int64  \n",
      " 1   Name                          4687 non-null   int64  \n",
      " 2   Absolute Magnitude            4687 non-null   float64\n",
      " 3   Est Dia in KM(min)            4687 non-null   float64\n",
      " 4   Est Dia in KM(max)            4687 non-null   float64\n",
      " 5   Est Dia in M(min)             4687 non-null   float64\n",
      " 6   Est Dia in M(max)             4687 non-null   float64\n",
      " 7   Est Dia in Miles(min)         4687 non-null   float64\n",
      " 8   Est Dia in Miles(max)         4687 non-null   float64\n",
      " 9   Est Dia in Feet(min)          4687 non-null   float64\n",
      " 10  Est Dia in Feet(max)          4687 non-null   float64\n",
      " 11  Close Approach Date           4687 non-null   object \n",
      " 12  Epoch Date Close Approach     4687 non-null   int64  \n",
      " 13  Relative Velocity km per sec  4687 non-null   float64\n",
      " 14  Relative Velocity km per hr   4687 non-null   float64\n",
      " 15  Miles per hour                4687 non-null   float64\n",
      " 16  Miss Dist.(Astronomical)      4687 non-null   float64\n",
      " 17  Miss Dist.(lunar)             4687 non-null   float64\n",
      " 18  Miss Dist.(kilometers)        4687 non-null   float64\n",
      " 19  Miss Dist.(miles)             4687 non-null   float64\n",
      " 20  Orbiting Body                 4687 non-null   object \n",
      " 21  Orbit ID                      4687 non-null   int64  \n",
      " 22  Orbit Determination Date      4687 non-null   object \n",
      " 23  Orbit Uncertainity            4687 non-null   int64  \n",
      " 24  Minimum Orbit Intersection    4687 non-null   float64\n",
      " 25  Jupiter Tisserand Invariant   4687 non-null   float64\n",
      " 26  Epoch Osculation              4687 non-null   float64\n",
      " 27  Eccentricity                  4687 non-null   float64\n",
      " 28  Semi Major Axis               4687 non-null   float64\n",
      " 29  Inclination                   4687 non-null   float64\n",
      " 30  Asc Node Longitude            4687 non-null   float64\n",
      " 31  Orbital Period                4687 non-null   float64\n",
      " 32  Perihelion Distance           4687 non-null   float64\n",
      " 33  Perihelion Arg                4687 non-null   float64\n",
      " 34  Aphelion Dist                 4687 non-null   float64\n",
      " 35  Perihelion Time               4687 non-null   float64\n",
      " 36  Mean Anomaly                  4687 non-null   float64\n",
      " 37  Mean Motion                   4687 non-null   float64\n",
      " 38  Equinox                       4687 non-null   object \n",
      " 39  Hazardous                     4687 non-null   bool   \n",
      "dtypes: bool(1), float64(30), int64(5), object(4)\n",
      "memory usage: 1.4+ MB\n"
     ]
    }
   ],
   "source": [
    "asteroids_data.info()"
   ],
   "metadata": {
    "collapsed": false,
    "ExecuteTime": {
     "end_time": "2024-06-29T09:12:13.163443Z",
     "start_time": "2024-06-29T09:12:13.141423Z"
    }
   },
   "id": "8ef0ce5bfcfbdaca",
   "execution_count": 3
  },
  {
   "cell_type": "code",
   "outputs": [
    {
     "data": {
      "text/plain": "Equinox\nJ2000    4687\nName: count, dtype: int64"
     },
     "execution_count": 5,
     "metadata": {},
     "output_type": "execute_result"
    }
   ],
   "source": [
    "asteroids_data['Equinox'].value_counts()"
   ],
   "metadata": {
    "collapsed": false,
    "ExecuteTime": {
     "end_time": "2024-06-29T09:14:59.240074Z",
     "start_time": "2024-06-29T09:14:59.230745Z"
    }
   },
   "id": "1f7e1a27b57e8f2f",
   "execution_count": 5
  },
  {
   "cell_type": "code",
   "outputs": [
    {
     "data": {
      "text/plain": "Orbiting Body\nEarth    4687\nName: count, dtype: int64"
     },
     "execution_count": 6,
     "metadata": {},
     "output_type": "execute_result"
    }
   ],
   "source": [
    "asteroids_data['Orbiting Body'].value_counts()"
   ],
   "metadata": {
    "collapsed": false,
    "ExecuteTime": {
     "end_time": "2024-06-29T09:15:51.238912Z",
     "start_time": "2024-06-29T09:15:51.230162Z"
    }
   },
   "id": "cb32af4030ab05f4",
   "execution_count": 6
  },
  {
   "cell_type": "code",
   "outputs": [],
   "source": [
    "asteroids_data.drop(['Equinox', 'Orbiting Body', 'Neo Reference ID', 'Name'], axis=1, inplace=True)"
   ],
   "metadata": {
    "collapsed": false,
    "ExecuteTime": {
     "end_time": "2024-06-29T09:16:18.756345Z",
     "start_time": "2024-06-29T09:16:18.750126Z"
    }
   },
   "id": "3d991f31fd6d79cc",
   "execution_count": 8
  },
  {
   "cell_type": "code",
   "outputs": [
    {
     "data": {
      "text/plain": "        id                 name  est_diameter_min  est_diameter_max  \\\n0  2162635  162635 (2000 SS164)          1.198271          2.679415   \n1  2277475    277475 (2005 WK4)          0.265800          0.594347   \n2  2512244   512244 (2015 YE18)          0.722030          1.614507   \n3  3596030          (2012 BV13)          0.096506          0.215794   \n4  3667127          (2014 GE35)          0.255009          0.570217   \n\n   relative_velocity  miss_distance orbiting_body  sentry_object  \\\n0       13569.249224   5.483974e+07         Earth          False   \n1       73588.726663   6.143813e+07         Earth          False   \n2      114258.692129   4.979872e+07         Earth          False   \n3       24764.303138   2.543497e+07         Earth          False   \n4       42737.733765   4.627557e+07         Earth          False   \n\n   absolute_magnitude  hazardous  \n0               16.73      False  \n1               20.00       True  \n2               17.83      False  \n3               22.20      False  \n4               20.09       True  ",
      "text/html": "<div>\n<style scoped>\n    .dataframe tbody tr th:only-of-type {\n        vertical-align: middle;\n    }\n\n    .dataframe tbody tr th {\n        vertical-align: top;\n    }\n\n    .dataframe thead th {\n        text-align: right;\n    }\n</style>\n<table border=\"1\" class=\"dataframe\">\n  <thead>\n    <tr style=\"text-align: right;\">\n      <th></th>\n      <th>id</th>\n      <th>name</th>\n      <th>est_diameter_min</th>\n      <th>est_diameter_max</th>\n      <th>relative_velocity</th>\n      <th>miss_distance</th>\n      <th>orbiting_body</th>\n      <th>sentry_object</th>\n      <th>absolute_magnitude</th>\n      <th>hazardous</th>\n    </tr>\n  </thead>\n  <tbody>\n    <tr>\n      <th>0</th>\n      <td>2162635</td>\n      <td>162635 (2000 SS164)</td>\n      <td>1.198271</td>\n      <td>2.679415</td>\n      <td>13569.249224</td>\n      <td>5.483974e+07</td>\n      <td>Earth</td>\n      <td>False</td>\n      <td>16.73</td>\n      <td>False</td>\n    </tr>\n    <tr>\n      <th>1</th>\n      <td>2277475</td>\n      <td>277475 (2005 WK4)</td>\n      <td>0.265800</td>\n      <td>0.594347</td>\n      <td>73588.726663</td>\n      <td>6.143813e+07</td>\n      <td>Earth</td>\n      <td>False</td>\n      <td>20.00</td>\n      <td>True</td>\n    </tr>\n    <tr>\n      <th>2</th>\n      <td>2512244</td>\n      <td>512244 (2015 YE18)</td>\n      <td>0.722030</td>\n      <td>1.614507</td>\n      <td>114258.692129</td>\n      <td>4.979872e+07</td>\n      <td>Earth</td>\n      <td>False</td>\n      <td>17.83</td>\n      <td>False</td>\n    </tr>\n    <tr>\n      <th>3</th>\n      <td>3596030</td>\n      <td>(2012 BV13)</td>\n      <td>0.096506</td>\n      <td>0.215794</td>\n      <td>24764.303138</td>\n      <td>2.543497e+07</td>\n      <td>Earth</td>\n      <td>False</td>\n      <td>22.20</td>\n      <td>False</td>\n    </tr>\n    <tr>\n      <th>4</th>\n      <td>3667127</td>\n      <td>(2014 GE35)</td>\n      <td>0.255009</td>\n      <td>0.570217</td>\n      <td>42737.733765</td>\n      <td>4.627557e+07</td>\n      <td>Earth</td>\n      <td>False</td>\n      <td>20.09</td>\n      <td>True</td>\n    </tr>\n  </tbody>\n</table>\n</div>"
     },
     "execution_count": 10,
     "metadata": {},
     "output_type": "execute_result"
    }
   ],
   "source": [
    "df = pd.read_csv('data/neo.csv')\n",
    "df.head()"
   ],
   "metadata": {
    "collapsed": false,
    "ExecuteTime": {
     "end_time": "2024-06-29T09:38:18.038493Z",
     "start_time": "2024-06-29T09:38:17.885395Z"
    }
   },
   "id": "d8ff33646010c518",
   "execution_count": 10
  },
  {
   "cell_type": "code",
   "outputs": [],
   "source": [],
   "metadata": {
    "collapsed": false
   },
   "id": "c266df19b090382c"
  }
 ],
 "metadata": {
  "kernelspec": {
   "display_name": "Python 3",
   "language": "python",
   "name": "python3"
  },
  "language_info": {
   "codemirror_mode": {
    "name": "ipython",
    "version": 2
   },
   "file_extension": ".py",
   "mimetype": "text/x-python",
   "name": "python",
   "nbconvert_exporter": "python",
   "pygments_lexer": "ipython2",
   "version": "2.7.6"
  }
 },
 "nbformat": 4,
 "nbformat_minor": 5
}
