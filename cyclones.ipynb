{
 "cells": [
  {
   "cell_type": "markdown",
   "source": [
    "# Cyclone Type Classification Project\n",
    "\n",
    "Link to the data: https://www.kaggle.com/datasets/noaa/hurricane-database/data\n",
    "\n",
    "About the data:\n",
    "The National Hurricane Center (NHC) conducts a post-storm analysis of each tropical cyclone in the Atlantic basin (i.e., North Atlantic Ocean, Gulf of Mexico, and Caribbean Sea) and the North Pacific Ocean to determine the official assessment of the cyclone’s history. This analysis makes use of all available observations, including those that may not have been available in real time. In addition, NHC conducts ongoing reviews of any retrospective tropical cyclone analyses brought to its attention and on a regular basis updates the historical record to reflect changes introduced.\n",
    "\n",
    "Goal: Classify the cyclones detected in the atlantic ocean."
   ],
   "metadata": {
    "collapsed": false
   },
   "id": "f7c83a0c33a0d7ab"
  },
  {
   "cell_type": "markdown",
   "source": [
    "## Importing Necessary Libraries"
   ],
   "metadata": {
    "collapsed": false
   },
   "id": "9a310bc5881255ae"
  },
  {
   "cell_type": "code",
   "execution_count": 28,
   "id": "initial_id",
   "metadata": {
    "collapsed": true,
    "ExecuteTime": {
     "end_time": "2024-07-04T08:19:03.599436Z",
     "start_time": "2024-07-04T08:19:03.592083Z"
    }
   },
   "outputs": [],
   "source": [
    "import pandas as pd\n",
    "import seaborn as sns\n",
    "import re\n",
    "# import geopandas as gpd\n",
    "import numpy as np\n",
    "import itertools\n",
    "\n",
    "from sklearn.base import BaseEstimator, TransformerMixin\n",
    "from sklearn.pipeline import Pipeline \n",
    "from sklearn.compose import ColumnTransformer\n",
    "from sklearn.metrics import f1_score, roc_auc_score\n",
    "from sklearn.model_selection import learning_curve, validation_curve, train_test_split, KFold, StratifiedKFold, cross_val_score, GridSearchCV, RandomizedSearchCV, cross_validate, RepeatedStratifiedKFold\n",
    "from sklearn.linear_model import Perceptron, LogisticRegression\n",
    "from sklearn.neighbors import KNeighborsClassifier\n",
    "from sklearn.decomposition import PCA\n",
    "from sklearn.discriminant_analysis import LinearDiscriminantAnalysis as LDA\n",
    "from sklearn.impute import SimpleImputer, KNNImputer\n",
    "from sklearn.preprocessing import FunctionTransformer, StandardScaler, OneHotEncoder, OrdinalEncoder, LabelEncoder\n",
    "from sklearn.datasets import fetch_openml\n",
    "from sklearn.ensemble import RandomForestClassifier\n",
    "from sklearn.multiclass import OneVsOneClassifier, OneVsRestClassifier\n",
    "from sklearn.svm import SVC, LinearSVC\n",
    "\n",
    "from scipy.stats import loguniform, beta, uniform\n",
    "\n",
    "from mlxtend.feature_selection import SequentialFeatureSelector as SFS\n",
    "\n",
    "from imblearn.over_sampling import SMOTE, RandomOverSampler\n",
    "from imblearn.pipeline import Pipeline as IMBPipeline\n",
    "\n",
    "import missingno as msno\n",
    "\n",
    "import matplotlib.pyplot as plt\n",
    "import warnings\n",
    "\n",
    "warnings.filterwarnings('ignore')"
   ]
  },
  {
   "cell_type": "markdown",
   "source": [
    "## Uploading the Dataset"
   ],
   "metadata": {
    "collapsed": false
   },
   "id": "b201f07eab04b7fe"
  },
  {
   "cell_type": "code",
   "outputs": [
    {
     "data": {
      "text/plain": "   Unnamed: 0        ID                 Name        Date    Time Event Status  \\\n0           0  AL011851              UNNAMED  18510625.0     NaN   NaN     HU   \n1           1       NaN                  NaN         NaN     NaN   NaN    NaN   \n2           2  AL011851              UNNAMED  18510625.0   600.0           HU   \n3           3  AL011851              UNNAMED  18510625.0     NaN           HU   \n4           4  AL011851              UNNAMED  18510625.0  1800.0           HU   \n\n  Latitude Longitude  Maximum Wind  ...  Low Wind SW  Low Wind NW  \\\n0    28.0N     94.8W          80.0  ...       -999.0       -999.0   \n1      NaN       NaN           NaN  ...          NaN          NaN   \n2    28.0N     95.4W          80.0  ...       -999.0       -999.0   \n3    28.0N     96.0W          80.0  ...       -999.0       -999.0   \n4    28.1N     96.5W          80.0  ...       -999.0       -999.0   \n\n   Moderate Wind NE  Moderate Wind SE  Moderate Wind SW  Moderate Wind NW  \\\n0            -999.0            -999.0            -999.0            -999.0   \n1               NaN               NaN               NaN               NaN   \n2            -999.0            -999.0            -999.0            -999.0   \n3            -999.0            -999.0            -999.0            -999.0   \n4            -999.0               NaN            -999.0            -999.0   \n\n   High Wind NE  High Wind SE  High Wind SW  High Wind NW  \n0        -999.0        -999.0           NaN        -999.0  \n1           NaN           NaN           NaN           NaN  \n2        -999.0        -999.0        -999.0        -999.0  \n3        -999.0        -999.0           NaN        -999.0  \n4        -999.0        -999.0           NaN        -999.0  \n\n[5 rows x 23 columns]",
      "text/html": "<div>\n<style scoped>\n    .dataframe tbody tr th:only-of-type {\n        vertical-align: middle;\n    }\n\n    .dataframe tbody tr th {\n        vertical-align: top;\n    }\n\n    .dataframe thead th {\n        text-align: right;\n    }\n</style>\n<table border=\"1\" class=\"dataframe\">\n  <thead>\n    <tr style=\"text-align: right;\">\n      <th></th>\n      <th>Unnamed: 0</th>\n      <th>ID</th>\n      <th>Name</th>\n      <th>Date</th>\n      <th>Time</th>\n      <th>Event</th>\n      <th>Status</th>\n      <th>Latitude</th>\n      <th>Longitude</th>\n      <th>Maximum Wind</th>\n      <th>...</th>\n      <th>Low Wind SW</th>\n      <th>Low Wind NW</th>\n      <th>Moderate Wind NE</th>\n      <th>Moderate Wind SE</th>\n      <th>Moderate Wind SW</th>\n      <th>Moderate Wind NW</th>\n      <th>High Wind NE</th>\n      <th>High Wind SE</th>\n      <th>High Wind SW</th>\n      <th>High Wind NW</th>\n    </tr>\n  </thead>\n  <tbody>\n    <tr>\n      <th>0</th>\n      <td>0</td>\n      <td>AL011851</td>\n      <td>UNNAMED</td>\n      <td>18510625.0</td>\n      <td>NaN</td>\n      <td>NaN</td>\n      <td>HU</td>\n      <td>28.0N</td>\n      <td>94.8W</td>\n      <td>80.0</td>\n      <td>...</td>\n      <td>-999.0</td>\n      <td>-999.0</td>\n      <td>-999.0</td>\n      <td>-999.0</td>\n      <td>-999.0</td>\n      <td>-999.0</td>\n      <td>-999.0</td>\n      <td>-999.0</td>\n      <td>NaN</td>\n      <td>-999.0</td>\n    </tr>\n    <tr>\n      <th>1</th>\n      <td>1</td>\n      <td>NaN</td>\n      <td>NaN</td>\n      <td>NaN</td>\n      <td>NaN</td>\n      <td>NaN</td>\n      <td>NaN</td>\n      <td>NaN</td>\n      <td>NaN</td>\n      <td>NaN</td>\n      <td>...</td>\n      <td>NaN</td>\n      <td>NaN</td>\n      <td>NaN</td>\n      <td>NaN</td>\n      <td>NaN</td>\n      <td>NaN</td>\n      <td>NaN</td>\n      <td>NaN</td>\n      <td>NaN</td>\n      <td>NaN</td>\n    </tr>\n    <tr>\n      <th>2</th>\n      <td>2</td>\n      <td>AL011851</td>\n      <td>UNNAMED</td>\n      <td>18510625.0</td>\n      <td>600.0</td>\n      <td></td>\n      <td>HU</td>\n      <td>28.0N</td>\n      <td>95.4W</td>\n      <td>80.0</td>\n      <td>...</td>\n      <td>-999.0</td>\n      <td>-999.0</td>\n      <td>-999.0</td>\n      <td>-999.0</td>\n      <td>-999.0</td>\n      <td>-999.0</td>\n      <td>-999.0</td>\n      <td>-999.0</td>\n      <td>-999.0</td>\n      <td>-999.0</td>\n    </tr>\n    <tr>\n      <th>3</th>\n      <td>3</td>\n      <td>AL011851</td>\n      <td>UNNAMED</td>\n      <td>18510625.0</td>\n      <td>NaN</td>\n      <td></td>\n      <td>HU</td>\n      <td>28.0N</td>\n      <td>96.0W</td>\n      <td>80.0</td>\n      <td>...</td>\n      <td>-999.0</td>\n      <td>-999.0</td>\n      <td>-999.0</td>\n      <td>-999.0</td>\n      <td>-999.0</td>\n      <td>-999.0</td>\n      <td>-999.0</td>\n      <td>-999.0</td>\n      <td>NaN</td>\n      <td>-999.0</td>\n    </tr>\n    <tr>\n      <th>4</th>\n      <td>4</td>\n      <td>AL011851</td>\n      <td>UNNAMED</td>\n      <td>18510625.0</td>\n      <td>1800.0</td>\n      <td></td>\n      <td>HU</td>\n      <td>28.1N</td>\n      <td>96.5W</td>\n      <td>80.0</td>\n      <td>...</td>\n      <td>-999.0</td>\n      <td>-999.0</td>\n      <td>-999.0</td>\n      <td>NaN</td>\n      <td>-999.0</td>\n      <td>-999.0</td>\n      <td>-999.0</td>\n      <td>-999.0</td>\n      <td>NaN</td>\n      <td>-999.0</td>\n    </tr>\n  </tbody>\n</table>\n<p>5 rows × 23 columns</p>\n</div>"
     },
     "execution_count": 29,
     "metadata": {},
     "output_type": "execute_result"
    }
   ],
   "source": [
    "data_atlantic = pd.read_csv('data/atlantic_corrupted.csv')\n",
    "data_atlantic.head()"
   ],
   "metadata": {
    "collapsed": false,
    "ExecuteTime": {
     "end_time": "2024-07-04T08:19:03.940089Z",
     "start_time": "2024-07-04T08:19:03.711263Z"
    }
   },
   "id": "2868bb949f03edf5",
   "execution_count": 29
  },
  {
   "cell_type": "code",
   "outputs": [
    {
     "data": {
      "text/plain": "(49596, 23)"
     },
     "execution_count": 30,
     "metadata": {},
     "output_type": "execute_result"
    }
   ],
   "source": [
    "data_atlantic.shape"
   ],
   "metadata": {
    "collapsed": false,
    "ExecuteTime": {
     "end_time": "2024-07-04T08:19:03.948427Z",
     "start_time": "2024-07-04T08:19:03.942708Z"
    }
   },
   "id": "821935ec773a5ec3",
   "execution_count": 30
  },
  {
   "cell_type": "markdown",
   "source": [
    "The data consists of over 49 thousand instances and 22 features + auxiliary feature 'Unnamed: 0' created by data_noiser.\n",
    "We shall take a closer look and do the preprocessing step."
   ],
   "metadata": {
    "collapsed": false
   },
   "id": "c1847f74d798677"
  },
  {
   "cell_type": "markdown",
   "source": [
    "## Preprocessing\n",
    "\n",
    "Firstly, we must understand what kind of information the dataset holds for each column."
   ],
   "metadata": {
    "collapsed": false
   },
   "id": "9899ddaf8365c760"
  },
  {
   "cell_type": "code",
   "outputs": [
    {
     "name": "stdout",
     "output_type": "stream",
     "text": [
      "<class 'pandas.core.frame.DataFrame'>\n",
      "RangeIndex: 49596 entries, 0 to 49595\n",
      "Data columns (total 23 columns):\n",
      " #   Column            Non-Null Count  Dtype  \n",
      "---  ------            --------------  -----  \n",
      " 0   Unnamed: 0        49596 non-null  int64  \n",
      " 1   ID                49105 non-null  object \n",
      " 2   Name              49105 non-null  object \n",
      " 3   Date              49105 non-null  float64\n",
      " 4   Time              27008 non-null  float64\n",
      " 5   Event             35847 non-null  object \n",
      " 6   Status            49105 non-null  object \n",
      " 7   Latitude          49105 non-null  object \n",
      " 8   Longitude         49105 non-null  object \n",
      " 9   Maximum Wind      37811 non-null  float64\n",
      " 10  Minimum Pressure  49105 non-null  float64\n",
      " 11  Low Wind NE       34374 non-null  float64\n",
      " 12  Low Wind SE       17187 non-null  float64\n",
      " 13  Low Wind SW       49105 non-null  float64\n",
      " 14  Low Wind NW       49105 non-null  float64\n",
      " 15  Moderate Wind NE  49105 non-null  float64\n",
      " 16  Moderate Wind SE  6923 non-null   float64\n",
      " 17  Moderate Wind SW  49105 non-null  float64\n",
      " 18  Moderate Wind NW  40267 non-null  float64\n",
      " 19  High Wind NE      49105 non-null  float64\n",
      " 20  High Wind SE      49105 non-null  float64\n",
      " 21  High Wind SW      32410 non-null  float64\n",
      " 22  High Wind NW      49105 non-null  float64\n",
      "dtypes: float64(16), int64(1), object(6)\n",
      "memory usage: 8.7+ MB\n"
     ]
    }
   ],
   "source": [
    "data_atlantic.info()"
   ],
   "metadata": {
    "collapsed": false,
    "ExecuteTime": {
     "end_time": "2024-07-04T08:19:03.976685Z",
     "start_time": "2024-07-04T08:19:03.951146Z"
    }
   },
   "id": "a4f19f19970a3787",
   "execution_count": 31
  },
  {
   "cell_type": "markdown",
   "source": [
    "Asside from float and int objects, we also have some objects."
   ],
   "metadata": {
    "collapsed": false
   },
   "id": "ca9c7a90434978ce"
  },
  {
   "cell_type": "code",
   "outputs": [
    {
     "data": {
      "text/plain": "          Unnamed: 0        ID                 Name          Date  \\\ncount   49596.000000     49105                49105  4.910500e+04   \nunique           NaN      1814                  288           NaN   \ntop              NaN  AL031899              UNNAMED           NaN   \nfreq             NaN       133                26563           NaN   \nmean    24797.500000       NaN                  NaN  1.949802e+07   \nstd     14317.276312       NaN                  NaN  4.461850e+05   \nmin         0.000000       NaN                  NaN  1.851062e+07   \n25%     12398.750000       NaN                  NaN  1.911110e+07   \n50%     24797.500000       NaN                  NaN  1.956093e+07   \n75%     37196.250000       NaN                  NaN  1.989081e+07   \nmax     49595.000000       NaN                  NaN  2.015111e+07   \n\n                Time  Event Status Latitude Longitude  Maximum Wind  ...  \\\ncount   27008.000000  35847  49105    49105     49105  37811.000000  ...   \nunique           NaN     10      9      597      1036           NaN  ...   \ntop              NaN            TS    28.0N     65.0W           NaN  ...   \nfreq             NaN  35139  17804      299       181           NaN  ...   \nmean      911.993298    NaN    NaN      NaN       NaN     52.010156  ...   \nstd       669.847897    NaN    NaN      NaN       NaN     27.691329  ...   \nmin         0.000000    NaN    NaN      NaN       NaN    -99.000000  ...   \n25%       600.000000    NaN    NaN      NaN       NaN     35.000000  ...   \n50%      1200.000000    NaN    NaN      NaN       NaN     45.000000  ...   \n75%      1800.000000    NaN    NaN      NaN       NaN     70.000000  ...   \nmax      2330.000000    NaN    NaN      NaN       NaN    165.000000  ...   \n\n         Low Wind SW   Low Wind NW  Moderate Wind NE  Moderate Wind SE  \\\ncount   49105.000000  49105.000000      49105.000000       6923.000000   \nunique           NaN           NaN               NaN               NaN   \ntop              NaN           NaN               NaN               NaN   \nfreq             NaN           NaN               NaN               NaN   \nmean     -872.676428   -871.409245       -875.570940       -867.742019   \nstd       342.153768    345.628984        333.651396        354.293936   \nmin      -999.000000   -999.000000       -999.000000       -999.000000   \n25%      -999.000000   -999.000000       -999.000000       -999.000000   \n50%      -999.000000   -999.000000       -999.000000       -999.000000   \n75%      -999.000000   -999.000000       -999.000000       -999.000000   \nmax       640.000000    530.000000        360.000000        480.000000   \n\n        Moderate Wind SW  Moderate Wind NW  High Wind NE  High Wind SE  \\\ncount       49105.000000      40267.000000  49105.000000  49105.000000   \nunique               NaN               NaN           NaN           NaN   \ntop                  NaN               NaN           NaN           NaN   \nfreq                 NaN               NaN           NaN           NaN   \nmean         -876.682028       -875.765143   -877.564321   -877.655045   \nstd           330.526085        332.200213    328.027275    327.774794   \nmin          -999.000000       -999.000000   -999.000000   -999.000000   \n25%          -999.000000       -999.000000   -999.000000   -999.000000   \n50%          -999.000000       -999.000000   -999.000000   -999.000000   \n75%          -999.000000       -999.000000   -999.000000   -999.000000   \nmax           330.000000        360.000000    180.000000    250.000000   \n\n        High Wind SW  High Wind NW  \ncount   32410.000000  49105.000000  \nunique           NaN           NaN  \ntop              NaN           NaN  \nfreq             NaN           NaN  \nmean     -878.006788   -877.786295  \nstd       326.938684    327.408253  \nmin      -999.000000   -999.000000  \n25%      -999.000000   -999.000000  \n50%      -999.000000   -999.000000  \n75%      -999.000000   -999.000000  \nmax       150.000000    180.000000  \n\n[11 rows x 23 columns]",
      "text/html": "<div>\n<style scoped>\n    .dataframe tbody tr th:only-of-type {\n        vertical-align: middle;\n    }\n\n    .dataframe tbody tr th {\n        vertical-align: top;\n    }\n\n    .dataframe thead th {\n        text-align: right;\n    }\n</style>\n<table border=\"1\" class=\"dataframe\">\n  <thead>\n    <tr style=\"text-align: right;\">\n      <th></th>\n      <th>Unnamed: 0</th>\n      <th>ID</th>\n      <th>Name</th>\n      <th>Date</th>\n      <th>Time</th>\n      <th>Event</th>\n      <th>Status</th>\n      <th>Latitude</th>\n      <th>Longitude</th>\n      <th>Maximum Wind</th>\n      <th>...</th>\n      <th>Low Wind SW</th>\n      <th>Low Wind NW</th>\n      <th>Moderate Wind NE</th>\n      <th>Moderate Wind SE</th>\n      <th>Moderate Wind SW</th>\n      <th>Moderate Wind NW</th>\n      <th>High Wind NE</th>\n      <th>High Wind SE</th>\n      <th>High Wind SW</th>\n      <th>High Wind NW</th>\n    </tr>\n  </thead>\n  <tbody>\n    <tr>\n      <th>count</th>\n      <td>49596.000000</td>\n      <td>49105</td>\n      <td>49105</td>\n      <td>4.910500e+04</td>\n      <td>27008.000000</td>\n      <td>35847</td>\n      <td>49105</td>\n      <td>49105</td>\n      <td>49105</td>\n      <td>37811.000000</td>\n      <td>...</td>\n      <td>49105.000000</td>\n      <td>49105.000000</td>\n      <td>49105.000000</td>\n      <td>6923.000000</td>\n      <td>49105.000000</td>\n      <td>40267.000000</td>\n      <td>49105.000000</td>\n      <td>49105.000000</td>\n      <td>32410.000000</td>\n      <td>49105.000000</td>\n    </tr>\n    <tr>\n      <th>unique</th>\n      <td>NaN</td>\n      <td>1814</td>\n      <td>288</td>\n      <td>NaN</td>\n      <td>NaN</td>\n      <td>10</td>\n      <td>9</td>\n      <td>597</td>\n      <td>1036</td>\n      <td>NaN</td>\n      <td>...</td>\n      <td>NaN</td>\n      <td>NaN</td>\n      <td>NaN</td>\n      <td>NaN</td>\n      <td>NaN</td>\n      <td>NaN</td>\n      <td>NaN</td>\n      <td>NaN</td>\n      <td>NaN</td>\n      <td>NaN</td>\n    </tr>\n    <tr>\n      <th>top</th>\n      <td>NaN</td>\n      <td>AL031899</td>\n      <td>UNNAMED</td>\n      <td>NaN</td>\n      <td>NaN</td>\n      <td></td>\n      <td>TS</td>\n      <td>28.0N</td>\n      <td>65.0W</td>\n      <td>NaN</td>\n      <td>...</td>\n      <td>NaN</td>\n      <td>NaN</td>\n      <td>NaN</td>\n      <td>NaN</td>\n      <td>NaN</td>\n      <td>NaN</td>\n      <td>NaN</td>\n      <td>NaN</td>\n      <td>NaN</td>\n      <td>NaN</td>\n    </tr>\n    <tr>\n      <th>freq</th>\n      <td>NaN</td>\n      <td>133</td>\n      <td>26563</td>\n      <td>NaN</td>\n      <td>NaN</td>\n      <td>35139</td>\n      <td>17804</td>\n      <td>299</td>\n      <td>181</td>\n      <td>NaN</td>\n      <td>...</td>\n      <td>NaN</td>\n      <td>NaN</td>\n      <td>NaN</td>\n      <td>NaN</td>\n      <td>NaN</td>\n      <td>NaN</td>\n      <td>NaN</td>\n      <td>NaN</td>\n      <td>NaN</td>\n      <td>NaN</td>\n    </tr>\n    <tr>\n      <th>mean</th>\n      <td>24797.500000</td>\n      <td>NaN</td>\n      <td>NaN</td>\n      <td>1.949802e+07</td>\n      <td>911.993298</td>\n      <td>NaN</td>\n      <td>NaN</td>\n      <td>NaN</td>\n      <td>NaN</td>\n      <td>52.010156</td>\n      <td>...</td>\n      <td>-872.676428</td>\n      <td>-871.409245</td>\n      <td>-875.570940</td>\n      <td>-867.742019</td>\n      <td>-876.682028</td>\n      <td>-875.765143</td>\n      <td>-877.564321</td>\n      <td>-877.655045</td>\n      <td>-878.006788</td>\n      <td>-877.786295</td>\n    </tr>\n    <tr>\n      <th>std</th>\n      <td>14317.276312</td>\n      <td>NaN</td>\n      <td>NaN</td>\n      <td>4.461850e+05</td>\n      <td>669.847897</td>\n      <td>NaN</td>\n      <td>NaN</td>\n      <td>NaN</td>\n      <td>NaN</td>\n      <td>27.691329</td>\n      <td>...</td>\n      <td>342.153768</td>\n      <td>345.628984</td>\n      <td>333.651396</td>\n      <td>354.293936</td>\n      <td>330.526085</td>\n      <td>332.200213</td>\n      <td>328.027275</td>\n      <td>327.774794</td>\n      <td>326.938684</td>\n      <td>327.408253</td>\n    </tr>\n    <tr>\n      <th>min</th>\n      <td>0.000000</td>\n      <td>NaN</td>\n      <td>NaN</td>\n      <td>1.851062e+07</td>\n      <td>0.000000</td>\n      <td>NaN</td>\n      <td>NaN</td>\n      <td>NaN</td>\n      <td>NaN</td>\n      <td>-99.000000</td>\n      <td>...</td>\n      <td>-999.000000</td>\n      <td>-999.000000</td>\n      <td>-999.000000</td>\n      <td>-999.000000</td>\n      <td>-999.000000</td>\n      <td>-999.000000</td>\n      <td>-999.000000</td>\n      <td>-999.000000</td>\n      <td>-999.000000</td>\n      <td>-999.000000</td>\n    </tr>\n    <tr>\n      <th>25%</th>\n      <td>12398.750000</td>\n      <td>NaN</td>\n      <td>NaN</td>\n      <td>1.911110e+07</td>\n      <td>600.000000</td>\n      <td>NaN</td>\n      <td>NaN</td>\n      <td>NaN</td>\n      <td>NaN</td>\n      <td>35.000000</td>\n      <td>...</td>\n      <td>-999.000000</td>\n      <td>-999.000000</td>\n      <td>-999.000000</td>\n      <td>-999.000000</td>\n      <td>-999.000000</td>\n      <td>-999.000000</td>\n      <td>-999.000000</td>\n      <td>-999.000000</td>\n      <td>-999.000000</td>\n      <td>-999.000000</td>\n    </tr>\n    <tr>\n      <th>50%</th>\n      <td>24797.500000</td>\n      <td>NaN</td>\n      <td>NaN</td>\n      <td>1.956093e+07</td>\n      <td>1200.000000</td>\n      <td>NaN</td>\n      <td>NaN</td>\n      <td>NaN</td>\n      <td>NaN</td>\n      <td>45.000000</td>\n      <td>...</td>\n      <td>-999.000000</td>\n      <td>-999.000000</td>\n      <td>-999.000000</td>\n      <td>-999.000000</td>\n      <td>-999.000000</td>\n      <td>-999.000000</td>\n      <td>-999.000000</td>\n      <td>-999.000000</td>\n      <td>-999.000000</td>\n      <td>-999.000000</td>\n    </tr>\n    <tr>\n      <th>75%</th>\n      <td>37196.250000</td>\n      <td>NaN</td>\n      <td>NaN</td>\n      <td>1.989081e+07</td>\n      <td>1800.000000</td>\n      <td>NaN</td>\n      <td>NaN</td>\n      <td>NaN</td>\n      <td>NaN</td>\n      <td>70.000000</td>\n      <td>...</td>\n      <td>-999.000000</td>\n      <td>-999.000000</td>\n      <td>-999.000000</td>\n      <td>-999.000000</td>\n      <td>-999.000000</td>\n      <td>-999.000000</td>\n      <td>-999.000000</td>\n      <td>-999.000000</td>\n      <td>-999.000000</td>\n      <td>-999.000000</td>\n    </tr>\n    <tr>\n      <th>max</th>\n      <td>49595.000000</td>\n      <td>NaN</td>\n      <td>NaN</td>\n      <td>2.015111e+07</td>\n      <td>2330.000000</td>\n      <td>NaN</td>\n      <td>NaN</td>\n      <td>NaN</td>\n      <td>NaN</td>\n      <td>165.000000</td>\n      <td>...</td>\n      <td>640.000000</td>\n      <td>530.000000</td>\n      <td>360.000000</td>\n      <td>480.000000</td>\n      <td>330.000000</td>\n      <td>360.000000</td>\n      <td>180.000000</td>\n      <td>250.000000</td>\n      <td>150.000000</td>\n      <td>180.000000</td>\n    </tr>\n  </tbody>\n</table>\n<p>11 rows × 23 columns</p>\n</div>"
     },
     "execution_count": 32,
     "metadata": {},
     "output_type": "execute_result"
    }
   ],
   "source": [
    "data_atlantic.describe(include='all')"
   ],
   "metadata": {
    "collapsed": false,
    "ExecuteTime": {
     "end_time": "2024-07-04T08:19:04.141652Z",
     "start_time": "2024-07-04T08:19:03.981056Z"
    }
   },
   "id": "da2776f99816ee0c",
   "execution_count": 32
  },
  {
   "cell_type": "markdown",
   "source": [
    "What we have is this:\n",
    "- 'Unnamed: 0' column is just an ID column generated by data_noiser code. \n",
    "- 'Event', 'Status', 'Latitude', 'Longitude' are all non numerical features. \n",
    "- 'ID' and 'Name' are both strings. We shall remove the Name column and replace ID with numerical data.\n",
    "\n",
    "We can just drop 'Unnamed: 0' column, or we can do this:"
   ],
   "metadata": {
    "collapsed": false
   },
   "id": "3ff8a3f7e3c6d59"
  },
  {
   "cell_type": "code",
   "outputs": [],
   "source": [
    "data_atlantic = data_atlantic.set_index('Unnamed: 0')"
   ],
   "metadata": {
    "collapsed": false,
    "ExecuteTime": {
     "end_time": "2024-07-04T08:19:04.158059Z",
     "start_time": "2024-07-04T08:19:04.146010Z"
    }
   },
   "id": "181da4226464b2c9",
   "execution_count": 33
  },
  {
   "cell_type": "markdown",
   "source": [
    "Now we shall evaluate how much data is missing for each feature."
   ],
   "metadata": {
    "collapsed": false
   },
   "id": "f58da28325951c6e"
  },
  {
   "cell_type": "code",
   "outputs": [
    {
     "data": {
      "text/plain": "ID                   0.989999\nName                 0.989999\nDate                 0.989999\nTime                45.543995\nEvent               27.721994\nStatus               0.989999\nLatitude             0.989999\nLongitude            0.989999\nMaximum Wind        23.761997\nMinimum Pressure     0.989999\nLow Wind NE         30.691991\nLow Wind SE         65.345996\nLow Wind SW          0.989999\nLow Wind NW          0.989999\nModerate Wind NE     0.989999\nModerate Wind SE    86.041213\nModerate Wind SW     0.989999\nModerate Wind NW    18.809985\nHigh Wind NE         0.989999\nHigh Wind SE         0.989999\nHigh Wind SW        34.651988\nHigh Wind NW         0.989999\ndtype: float64"
     },
     "execution_count": 34,
     "metadata": {},
     "output_type": "execute_result"
    }
   ],
   "source": [
    "data_atlantic.isnull().sum(axis=0) / data_atlantic.shape[0] * 100 # just for fun, let's see it in 'percentages'"
   ],
   "metadata": {
    "collapsed": false,
    "ExecuteTime": {
     "end_time": "2024-07-04T08:19:04.186901Z",
     "start_time": "2024-07-04T08:19:04.161173Z"
    }
   },
   "id": "6afd0e63c77fd26b",
   "execution_count": 34
  },
  {
   "cell_type": "markdown",
   "source": [
    "What we see is this:\n",
    "- 'Time', 'Latitude', 'Maximum Wind', 'Low Wind NE', 'Low Wind SE', 'Moderate Wind NW', 'Moderate Wind SE' and 'High Wind SW' have moderately high percentage of missing data.\n",
    "- The rest of the features have the same percentage of missing data, so we 'suspect' there are samples full of only missing data. Let's check:"
   ],
   "metadata": {
    "collapsed": false
   },
   "id": "ffe00e827d0e43fa"
  },
  {
   "cell_type": "code",
   "outputs": [
    {
     "name": "stdout",
     "output_type": "stream",
     "text": [
      "Amount of samples containing only missing data: 491\n",
      "The percentage of such rows: 0.9899991934833454\n"
     ]
    }
   ],
   "source": [
    "# we check on axis=1, i.e. all the rows, for the instances full of only missing data by comparing the sum of missing values to the number of columns\n",
    "print(f'Amount of samples containing only missing data: {(data_atlantic.isnull().sum(axis=1) == data_atlantic.shape[1]).sum()}')\n",
    "print(f'The percentage of such rows: {((data_atlantic.isnull().sum(axis=1) == data_atlantic.shape[1]).sum())/data_atlantic.shape[0] * 100}')"
   ],
   "metadata": {
    "collapsed": false,
    "ExecuteTime": {
     "end_time": "2024-07-04T08:19:04.243947Z",
     "start_time": "2024-07-04T08:19:04.189751Z"
    }
   },
   "id": "1737176550a831ac",
   "execution_count": 35
  },
  {
   "cell_type": "markdown",
   "source": [
    "We have nearly 500 rows with missing data. This is less than 1% of total data, we can remove these rows."
   ],
   "metadata": {
    "collapsed": false
   },
   "id": "cf801e6c7132251b"
  },
  {
   "cell_type": "code",
   "outputs": [
    {
     "data": {
      "text/plain": "(49105, 22)"
     },
     "execution_count": 36,
     "metadata": {},
     "output_type": "execute_result"
    }
   ],
   "source": [
    "data_atlantic.dropna(how='all', axis=0, inplace=True)\n",
    "data_atlantic.shape"
   ],
   "metadata": {
    "collapsed": false,
    "ExecuteTime": {
     "end_time": "2024-07-04T08:19:04.279358Z",
     "start_time": "2024-07-04T08:19:04.246870Z"
    }
   },
   "id": "c98831441c93d619",
   "execution_count": 36
  },
  {
   "cell_type": "markdown",
   "source": [
    "Now we go back to the features. "
   ],
   "metadata": {
    "collapsed": false
   },
   "id": "e2c73dbf2b6d2f76"
  },
  {
   "cell_type": "code",
   "outputs": [
    {
     "data": {
      "text/plain": "ID                   0.000000\nName                 0.000000\nDate                 0.000000\nTime                44.999491\nEvent               26.999287\nStatus               0.000000\nLatitude             0.000000\nLongitude            0.000000\nMaximum Wind        22.999695\nMinimum Pressure     0.000000\nLow Wind NE         29.998982\nLow Wind SE         64.999491\nLow Wind SW          0.000000\nLow Wind NW          0.000000\nModerate Wind NE     0.000000\nModerate Wind SE    85.901639\nModerate Wind SW     0.000000\nModerate Wind NW    17.998167\nHigh Wind NE         0.000000\nHigh Wind SE         0.000000\nHigh Wind SW        33.998574\nHigh Wind NW         0.000000\ndtype: float64"
     },
     "execution_count": 37,
     "metadata": {},
     "output_type": "execute_result"
    }
   ],
   "source": [
    "data_atlantic.isnull().sum(axis=0) / data_atlantic.shape[0] * 100 # just for fun, let's see it in 'percentages'"
   ],
   "metadata": {
    "collapsed": false,
    "ExecuteTime": {
     "end_time": "2024-07-04T08:19:04.310549Z",
     "start_time": "2024-07-04T08:19:04.283875Z"
    }
   },
   "id": "ffffd6f210102617",
   "execution_count": 37
  },
  {
   "cell_type": "markdown",
   "source": [
    "- Time has a float value here and missing values shall be substituted by median value.\n",
    "- Event reflects a certain category of each cyclone. Missing values can be replaced by imputing the most frequent values.\n",
    "- Latitude and Longitude here are object, but they can be transformed into numerical features. \n",
    "- Maximum Wind, Low Wind NE, Low Wind SE, Moderate Wind NW, High Wind SW, Moderate Wind SE are all numerical features, mean values will be imputed.\n",
    "\n",
    "All right, we know what to do with missing values; now we have to understand how we should transform the features so that we can learn a good model.\n",
    "\n",
    "First, we take a look at the target:"
   ],
   "metadata": {
    "collapsed": false
   },
   "id": "d9b3ecd2b1c2dd7b"
  },
  {
   "cell_type": "code",
   "outputs": [
    {
     "name": "stdout",
     "output_type": "stream",
     "text": [
      "[' HU' ' TS' ' EX' ' TD' ' LO' ' DB' ' SD' ' SS' ' WV']\n",
      "3\n"
     ]
    },
    {
     "data": {
      "text/plain": "<Figure size 640x480 with 1 Axes>",
      "image/png": "[encoded data removed]"
     },
     "metadata": {},
     "output_type": "display_data"
    }
   ],
   "source": [
    "sns.countplot(x='Status', data=data_atlantic, palette='pastel')\n",
    "print(data_atlantic.Status.unique())\n",
    "print(len(data_atlantic.Status.unique()[0]))"
   ],
   "metadata": {
    "collapsed": false,
    "ExecuteTime": {
     "end_time": "2024-07-04T08:19:04.926354Z",
     "start_time": "2024-07-04T08:19:04.317520Z"
    }
   },
   "id": "7532873484a11f64",
   "execution_count": 38
  },
  {
   "cell_type": "markdown",
   "source": [
    "Status can be the following types:\n",
    "- TD – Tropical cyclone of tropical depression intensity (< 34 knots)\n",
    "- TS – Tropical cyclone of tropical storm intensity (34-63 knots)\n",
    "- HU – Tropical cyclone of hurricane intensity (> 64 knots)\n",
    "- EX – Extratropical cyclone (of any intensity)\n",
    "- SD – Subtropical cyclone of subtropical depression intensity (< 34 knots)\n",
    "- SS – Subtropical cyclone of subtropical storm intensity (> 34 knots)\n",
    "- LO – A low that is neither a tropical cyclone, a subtropical cyclone, nor an extratropical cyclone (of any intensity)\n",
    "- WV – Tropical Wave (of any intensity)\n",
    "- DB – Disturbance (of any intensity)\n",
    "\n",
    "We can encode these categories by using OneHotEncoder, since the categories are nominal."
   ],
   "metadata": {
    "collapsed": false
   },
   "id": "ee817c7c56a1efc0"
  },
  {
   "cell_type": "markdown",
   "source": [
    "We take a look at the 'Event' now. "
   ],
   "metadata": {
    "collapsed": false
   },
   "id": "7e84d2288a5b240c"
  },
  {
   "cell_type": "code",
   "outputs": [
    {
     "data": {
      "text/plain": "array([nan, '  ', ' L', ' R', ' I', ' P', ' W', ' C', ' S', ' G', ' T'],\n      dtype=object)"
     },
     "execution_count": 45,
     "metadata": {},
     "output_type": "execute_result"
    }
   ],
   "source": [
    "data_atlantic.Event.unique()"
   ],
   "metadata": {
    "collapsed": false,
    "ExecuteTime": {
     "end_time": "2024-07-04T08:25:47.965966Z",
     "start_time": "2024-07-04T08:25:47.958637Z"
    }
   },
   "id": "7fee7980b555e89a",
   "execution_count": 45
  },
  {
   "cell_type": "code",
   "outputs": [],
   "source": [
    "class EventTransformer(BaseEstimator, TransformerMixin):\n",
    "\n",
    "    def fit(self, X, y=None):\n",
    "        return self\n",
    "    \n",
    "    def transform(self, X, y=None):\n",
    "        X.str.strip()\n",
    "        X = X.map({' ': 0, 'L': 1, 'C': 2, 'G': 3, 'I': 4, 'R': 5, 'P': 6, 'W': 7, 'S': 8, 'T': 9})\n",
    "        # Fill any unmapped values with a default value, e.g., -1\n",
    "        X = X.fillna(-1)\n",
    "        return X\n",
    "\n",
    "    def get_feature_names_out(self, input_features=None):\n",
    "        return ['event_code']"
   ],
   "metadata": {
    "collapsed": false,
    "ExecuteTime": {
     "end_time": "2024-07-04T08:22:34.121474Z",
     "start_time": "2024-07-04T08:22:34.115729Z"
    }
   },
   "id": "ded2059da4e26c7a",
   "execution_count": 43
  },
  {
   "cell_type": "code",
   "outputs": [],
   "source": [],
   "metadata": {
    "collapsed": false
   },
   "id": "dd3a85feb9e26c58"
  }
 ],
 "metadata": {
  "kernelspec": {
   "display_name": "Python 3",
   "language": "python",
   "name": "python3"
  },
  "language_info": {
   "codemirror_mode": {
    "name": "ipython",
    "version": 2
   },
   "file_extension": ".py",
   "mimetype": "text/x-python",
   "name": "python",
   "nbconvert_exporter": "python",
   "pygments_lexer": "ipython2",
   "version": "2.7.6"
  }
 },
 "nbformat": 4,
 "nbformat_minor": 5
}
